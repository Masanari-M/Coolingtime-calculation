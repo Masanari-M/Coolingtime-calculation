{
 "cells": [
  {
   "cell_type": "code",
   "execution_count": 2,
   "id": "c6199d24",
   "metadata": {},
   "outputs": [
    {
     "data": {
      "text/plain": [
       "6283185.307179586"
      ]
     },
     "execution_count": 2,
     "metadata": {},
     "output_type": "execute_result"
    }
   ],
   "source": [
    "from sympy import *\n",
    "import numpy as np\n",
    "from scipy.integrate import odeint\n",
    "import matplotlib.pyplot as plt\n",
    "import statistics\n",
    "from fractions import Fraction\n",
    "mc =40.0*1.66e-27 #calcium\n",
    "mh=44.0*1.66e-27\n",
    "kb = 1.380e-23 #ボルツマン定数\n",
    "Tk = 500e-6 # \n",
    "T = 500   #初期温度\n",
    "d=8 #deg#rotating angle\n",
    "rad=(d/180)*2*pi #radian\n",
    "vy0=(kb*T/mc)**0.5*10e-3 #初期速度\n",
    "#vy = (kb*Tk/m)**0.5 #イオンが振動している速さ\n",
    "wy = 2*pi*400e3 #y方向の永年周波数\n",
    "#レーザー冷却項に必要な定数\n",
    "hbar = 1.054e-34 #J.s\n",
    "h = 2*pi*hbar\n",
    "c = 3.0e8\n",
    "Gamma=2*pi*20.7e6   #Hz\n",
    "tau=1/Gamma #寿命\n",
    "\n",
    "\n",
    "lamda = 397e-9 #nm,冷却レーザーの波長\n",
    "delta=2*pi*10e6   #detuning#Hz#delta-omega\n",
    "k=2*pi/lamda\n",
    "dg = -0.5 #δ/Γ\n",
    "I = 50e-6/(pi*(100e-6)**2)\n",
    "Isat = (pi/3)*(h*c)/(tau*lamda**3)\n",
    "s=Ir=0.5\n",
    "a = (4*hbar*k**2)*Ir*(-2*dg)/((1+(2*dg)**2)**2)/mc\n",
    "y0=-50e-6\n",
    "wh= 2*pi*400e3\n",
    "wc= 2*pi*400e3\n",
    "\n",
    "e=1.6021e-19 #C\n",
    "F=e**2/(4*pi)\n",
    "epsilon0=8.854e-12  #[F/m]\n",
    "whx=wcx=2*np.pi*1000e3\n",
    "why=wcy= 2*np.pi*1000e3\n",
    "whz=wcz=2*np.pi*500e3\n",
    "whx"
   ]
  },
  {
   "cell_type": "code",
   "execution_count": 3,
   "id": "51eac60f",
   "metadata": {},
   "outputs": [
    {
     "name": "stdout",
     "output_type": "stream",
     "text": [
      "5.428915948338335e-06\n",
      "5.428915948338335e-06\n",
      "8.617866887439209e-06\n"
     ]
    }
   ],
   "source": [
    "#equilibrium distanve\n",
    "\n",
    "X=2*np.pi*epsilon0*mh*whx**2\n",
    "Y=2*np.pi*epsilon0*mh*why**2\n",
    "Z=2*np.pi*epsilon0*mh*whz**2\n",
    "\n",
    "#d_calc=np.cbrt(e**2/(2*np.pi*epsilon0*mh*omega**2)\n",
    "\n",
    "dx=(e**2/X)**(1/3)\n",
    "print(dx) #minimum distance\n",
    "dy=(e**2/Y)**(1/3)\n",
    "print(dy) #minimum distanced\n",
    "dz=(e**2/Z)**(1/3)\n",
    "print(dz) #minimum distance\n"
   ]
  },
  {
   "cell_type": "code",
   "execution_count": 4,
   "id": "8a587304",
   "metadata": {},
   "outputs": [
    {
     "name": "stdout",
     "output_type": "stream",
     "text": [
      "4.2492936206607094e-23\n",
      "4.2492936206607094e-23\n",
      "2.676887239927213e-23\n",
      "4.2492936206607094e-23\n"
     ]
    }
   ],
   "source": [
    "#minimum distance energy #C^2/F=C.V\n",
    "E_dx=e**2/(4*np.pi*epsilon0*dx)\n",
    "print(E_dx)\n",
    "E_dy=e**2/(4*np.pi*epsilon0*dy)\n",
    "print(E_dy)\n",
    "E_dz=e**2/(4*np.pi*epsilon0*dz)\n",
    "print(E_dz)\n",
    "#E_d=e**2/(4*np.pi*epsilon0*(dz**2+dy**2+dx**2)**(1/2))\n",
    "E_d=E_dx\n",
    "print(E_d)"
   ]
  },
  {
   "cell_type": "code",
   "execution_count": 5,
   "id": "a4d9edf9",
   "metadata": {},
   "outputs": [
    {
     "name": "stdout",
     "output_type": "stream",
     "text": [
      "3.770273704340757\n",
      "143.27040076494876\n",
      "5.98493644447856\n",
      "T= 0.0023250983084701325\n",
      "U= 0.04\n"
     ]
    }
   ],
   "source": [
    "V=(10,100,10)\n",
    "R=(0,-30e-6,10e-6)\n",
    "T=mh*(V[0]**2+V[1]**2+V[2]**2)/(2*e)\n",
    "U=0.04  #eV\n",
    "E0=T+U\n",
    "E0x=0.001*e\n",
    "E0y=0.038*e\n",
    "E0z=0.001*e\n",
    "print(E0x/E_dx)\n",
    "print(E0y/E_dy)\n",
    "print(E0z/E_dz)\n",
    "print(\"T=\",T)\n",
    "print(\"U=\",U)"
   ]
  },
  {
   "cell_type": "code",
   "execution_count": 6,
   "id": "55a724f1",
   "metadata": {},
   "outputs": [
    {
     "name": "stdout",
     "output_type": "stream",
     "text": [
      "3.770273704340757\n",
      "143.27040076494876\n",
      "3.770273704340757\n"
     ]
    }
   ],
   "source": [
    "#Energy\n",
    "\n",
    "\n",
    "taux=2*np.pi/whx\n",
    "def Ex(t,E0x,E_dx) :\n",
    "    E_t=np.zeros(len(t))\n",
    "    for i in range(len(t)):\n",
    "        E_t[0]=E0x/E_dx\n",
    "        E_t[i]=(E0x/E_dx)**3-(t[i]/taux)*24*mh/mc\n",
    "        if E_t[i] >=0:\n",
    "            E_t[i]=E_t[i]**(1/3)\n",
    "        else :\n",
    "            E_t[i]=-10\n",
    "    return E_t\n",
    "print(E0x/E_d)\n",
    "\n",
    "tauy=2*np.pi/why\n",
    "def Ey(t,E0y,E_dy) :\n",
    "    E_t=np.zeros(len(t))\n",
    "    for i in range(len(t)):\n",
    "        E_t[0]=E0y/E_dy\n",
    "        E_t[i]=(E0y/E_dy)**3-(t[i]/tauy)*24*mh/mc\n",
    "        if E_t[i] >=0:\n",
    "            E_t[i]=E_t[i]**(1/3)\n",
    "        else :\n",
    "            E_t[i]=-10\n",
    "    return E_t\n",
    "print(E0y/E_d)\n",
    "\n",
    "tauz=2*np.pi/whz\n",
    "def Ez(t,E0z,E_dz) :\n",
    "    E_t=np.zeros(len(t))\n",
    "    for i in range(len(t)):\n",
    "        E_t[0]=E0z/E_dz\n",
    "        E_t[i]=(E0z/E_dz)**3-(t[i]/tauz)*24*mh/mc\n",
    "        if E_t[i] >=0:\n",
    "            E_t[i]=E_t[i]**(1/3)\n",
    "        else :\n",
    "            E_t[i]=-10\n",
    "    return E_t\n",
    "print(E0z/E_d)"
   ]
  },
  {
   "cell_type": "code",
   "execution_count": 7,
   "id": "be7e6fbb",
   "metadata": {},
   "outputs": [
    {
     "data": {
      "image/png": "[encoded data removed]",
      "text/plain": [
       "<Figure size 640x480 with 1 Axes>"
      ]
     },
     "metadata": {},
     "output_type": "display_data"
    }
   ],
   "source": [
    "t=np.linspace(0, 0.8,10000)\n",
    "Ex_1 = Ex(t,E0x,E_d)\n",
    "Ey_1 = Ey(t,E0y,E_d)\n",
    "Ez_1 = Ez(t,E0z,E_d)\n",
    "fig, ax = plt.subplots()\n",
    "#ax.plot(t, Ex) \n",
    "#ax.plot(t, Ey) \n",
    "#ax.plot(t, Ez) \n",
    "E1=Ex(t,0.001*e,E_d)+Ey(t,0.038*e,E_d)+Ez(t,0.001*e,E_d)\n",
    "ax.plot(t*10**3,E1,label='1:38:1')\n",
    "E2=Ex(t,0.01*e,E_d)+Ey(t,0.02*e,E_d)+Ez(t,0.01*e,E_d)\n",
    "ax.plot(t*10**3,E2,label='10:20:10')\n",
    "E3=Ex(t,0.013*e,E_d)+Ey(t,0.014*e,E_d)+Ez(t,0.013*e,E_d)\n",
    "ax.plot(t*10**3,E3,label='13:14:13')\n",
    "E4=Ex(t,0.009*e,E_d)+Ey(t,0.03*e,E_d)+Ez(t,0.001*e,E_d)\n",
    "ax.plot(t*10**3,E4,label='9:30:1')\n",
    "E5=Ex(t,0*e,E_d)+Ey(t,0.028*e,E_d)+Ez(t,0.012*e,E_d)\n",
    "ax.plot(t*10**3,E5,label='0:28:12')\n",
    "E6=Ex(t,0.007*e,E_d)+Ey(t,0.027*e,E_d)+Ez(t,0.006*e,E_d)\n",
    "ax.plot(t*10**3,E6,label='7:27:6')\n",
    "#E7=Ex(t,0*e,E_d)+Ey(t,0.039*e,E_d)+Ez(t,0.001*e,E_d)\n",
    "#ax.plot(t*10**3,E7,label='0:39:1')\n",
    "E8=Ex(t,0.001*e,E_d)+Ey(t,0.039*e,E_d)+Ez(t,0*e,E_d)\n",
    "ax.plot(t*10**3,E8,label='1:39:0')\n",
    "E9=Ex(t,0*e,E_d)+Ey(t,0.04*e,E_d)+Ez(t,0*e,E_d)\n",
    "ax.plot(t*10**3,E9,label='0:40:0')\n",
    "ax.set_ylim(0,150)\n",
    "ax.set_xlim(0,150)\n",
    "ax.set_xlabel('Time[ms]') \n",
    "ax.set_ylabel('E0/E_d') \n",
    "ax.legend() \n",
    "plt.show() \n"
   ]
  },
  {
   "cell_type": "code",
   "execution_count": 9,
   "id": "f66cd422",
   "metadata": {},
   "outputs": [
    {
     "data": {
      "text/plain": [
       "array([  3.7702737, -10.       , -10.       , ..., -10.       ,\n",
       "       -10.       , -10.       ])"
      ]
     },
     "execution_count": 9,
     "metadata": {},
     "output_type": "execute_result"
    }
   ],
   "source": [
    "Ez(t,E0z,E_dz)"
   ]
  },
  {
   "cell_type": "code",
   "execution_count": 164,
   "id": "43b45b29",
   "metadata": {},
   "outputs": [
    {
     "data": {
      "text/plain": [
       "3.7184563568792935e-20"
      ]
     },
     "execution_count": 164,
     "metadata": {},
     "output_type": "execute_result"
    }
   ],
   "source": [
    "E_t=E[1]**3-(t[2]/tau)*24*mh/mc*(E_d**3)\n",
    "if E_t >=0:\n",
    "    E_t=E_t**(1/3)\n",
    "else :\n",
    "    E_t=0\n",
    "E_t"
   ]
  },
  {
   "cell_type": "code",
   "execution_count": 201,
   "id": "c2dc34d0",
   "metadata": {},
   "outputs": [
    {
     "data": {
      "text/plain": [
       "31.718698992792802"
      ]
     },
     "execution_count": 201,
     "metadata": {},
     "output_type": "execute_result"
    }
   ],
   "source": [
    "E0=0.1*e\n",
    "tau=2*np.pi/why\n",
    "M=mc/(24*mh)\n",
    "tau_c=M*tau*(E0/E_d)**3\n",
    "tau_c"
   ]
  },
  {
   "cell_type": "code",
   "execution_count": 29,
   "id": "645d742d",
   "metadata": {},
   "outputs": [
    {
     "data": {
      "text/plain": [
       "0.027923974783097185"
      ]
     },
     "execution_count": 29,
     "metadata": {},
     "output_type": "execute_result"
    }
   ],
   "source": [
    "v=350\n",
    "E=mh*v**2/2\n",
    "E/e"
   ]
  },
  {
   "cell_type": "code",
   "execution_count": 30,
   "id": "081b213a",
   "metadata": {},
   "outputs": [
    {
     "data": {
      "text/plain": [
       "154.79227053140096"
      ]
     },
     "execution_count": 30,
     "metadata": {},
     "output_type": "execute_result"
    }
   ],
   "source": [
    "E0=0.04*e#eV\n",
    "T=E0/(3*kb)\n",
    "T"
   ]
  },
  {
   "cell_type": "code",
   "execution_count": 35,
   "id": "b6bac7c0",
   "metadata": {},
   "outputs": [
    {
     "data": {
      "text/plain": [
       "0.027923974783097185"
      ]
     },
     "execution_count": 35,
     "metadata": {},
     "output_type": "execute_result"
    }
   ],
   "source": [
    "mh*350**2/(2*e)  #E[eV]"
   ]
  },
  {
   "cell_type": "code",
   "execution_count": 217,
   "id": "7b3f4f62",
   "metadata": {},
   "outputs": [
    {
     "data": {
      "text/plain": [
       "1.0336433431121652"
      ]
     },
     "execution_count": 217,
     "metadata": {},
     "output_type": "execute_result"
    }
   ],
   "source": [
    "(3*kb*4000)/e   #[eV]"
   ]
  },
  {
   "cell_type": "code",
   "execution_count": 80,
   "id": "29866bce",
   "metadata": {},
   "outputs": [
    {
     "data": {
      "text/plain": [
       "0.0022795081455589537"
      ]
     },
     "execution_count": 80,
     "metadata": {},
     "output_type": "execute_result"
    }
   ],
   "source": [
    "V=(10,100,10)\n",
    "Ex=mh*V[0]**2/(2*e)\n",
    "Ey=mh*V[1]**2/(2*e)\n",
    "Ez=mh*V[2]**2/(2*e)\n",
    "Ey"
   ]
  },
  {
   "cell_type": "code",
   "execution_count": 97,
   "id": "bd81ce9a",
   "metadata": {},
   "outputs": [
    {
     "name": "stdout",
     "output_type": "stream",
     "text": [
      "3.652e-29\n",
      "3.6519999999999997e-28\n",
      "3.652e-29\n"
     ]
    }
   ],
   "source": [
    "Lx=50e-6*10*mh\n",
    "Ly=50e-6*100*mh\n",
    "Lz=50e-6*10*mh\n",
    "print(Lx)\n",
    "print(Ly)\n",
    "print(Lz)"
   ]
  },
  {
   "cell_type": "code",
   "execution_count": 99,
   "id": "4852bb3e",
   "metadata": {},
   "outputs": [
    {
     "data": {
      "text/plain": [
       "1.2916307826035596e-30"
      ]
     },
     "execution_count": 99,
     "metadata": {},
     "output_type": "execute_result"
    }
   ],
   "source": [
    "mh*V[0]**2/(whx*2) #Ex/wx"
   ]
  },
  {
   "cell_type": "code",
   "execution_count": 92,
   "id": "3a692097",
   "metadata": {},
   "outputs": [
    {
     "data": {
      "text/plain": [
       "1.4530846304290044e-28"
      ]
     },
     "execution_count": 92,
     "metadata": {},
     "output_type": "execute_result"
    }
   ],
   "source": [
    "mh*V[1]**2/(why*2)  #Ey/wy"
   ]
  },
  {
   "cell_type": "code",
   "execution_count": 93,
   "id": "a07b01f3",
   "metadata": {},
   "outputs": [
    {
     "data": {
      "text/plain": [
       "1.1624677043432037e-29"
      ]
     },
     "execution_count": 93,
     "metadata": {},
     "output_type": "execute_result"
    }
   ],
   "source": [
    "mh*V[2]**2/(whz*2)   #Ez/wz"
   ]
  },
  {
   "cell_type": "code",
   "execution_count": 233,
   "id": "df64a419",
   "metadata": {},
   "outputs": [
    {
     "name": "stdout",
     "output_type": "stream",
     "text": [
      "0.002284074009503953\n",
      "T= 8.83892504982194\n"
     ]
    },
    {
     "data": {
      "image/png": "[encoded data removed]",
      "text/plain": [
       "<Figure size 640x480 with 1 Axes>"
      ]
     },
     "metadata": {},
     "output_type": "display_data"
    }
   ],
   "source": [
    "v=np.linspace(0,1000,1000)\n",
    "def motion_energy(v,x):\n",
    "    Em=np.zeros(len(v))\n",
    "    for i in range(len(v)):\n",
    "        Em[i]=mh*v[i]**2/(2*e)\n",
    "        if i == x:\n",
    "            print(Em[i])\n",
    "            print('T=',(Em[i]*e)/(3*kb))\n",
    "    return Em\n",
    "\n",
    "def temp(E):\n",
    "    T=np.zeros(len(E))\n",
    "    for i in range(len(E)):\n",
    "        T[i]=(E[i]*e)/kb\n",
    "    return T\n",
    "\n",
    "Em=motion_energy(v,100)\n",
    "Tlist=temp(Em)\n",
    "fig, ax = plt.subplots()\n",
    "ax.plot(v, Em) \n",
    "#ax.plot(Tlist,Em)\n",
    "ax.set_xlabel('v') \n",
    "ax.set_ylabel('Energy') \n",
    "ax.legend(\"eV\")  \n",
    "plt.show()    \n"
   ]
  },
  {
   "cell_type": "code",
   "execution_count": 235,
   "id": "a944e01d",
   "metadata": {},
   "outputs": [
    {
     "data": {
      "image/png": "[encoded data removed]",
      "text/plain": [
       "<Figure size 640x480 with 1 Axes>"
      ]
     },
     "metadata": {},
     "output_type": "display_data"
    }
   ],
   "source": [
    "fig, ax = plt.subplots() \n",
    "ax.plot(Tlist,Em)\n",
    "ax.set_xlabel('T') \n",
    "ax.set_ylabel('Energy') \n",
    "ax.legend(\"eV\")  \n",
    "plt.show()    "
   ]
  },
  {
   "cell_type": "code",
   "execution_count": 243,
   "id": "15359c69",
   "metadata": {},
   "outputs": [
    {
     "data": {
      "text/plain": [
       "array([0.0000000e+00, 3.0000003e-02, 6.0000006e-02, ..., 2.9999994e+05,\n",
       "       2.9999997e+05, 3.0000000e+05])"
      ]
     },
     "execution_count": 243,
     "metadata": {},
     "output_type": "execute_result"
    }
   ],
   "source": [
    "tt=np.linspace(0, 300000,10000000)\n",
    "tt"
   ]
  },
  {
   "cell_type": "code",
   "execution_count": 266,
   "id": "ec0eed2a",
   "metadata": {},
   "outputs": [
    {
     "data": {
      "text/plain": [
       "78.95683520871486"
      ]
     },
     "execution_count": 266,
     "metadata": {},
     "output_type": "execute_result"
    }
   ],
   "source": [
    "whx=wcx=2*np.pi*4500e3\n",
    "why=wcy= 2*np.pi*4000e3\n",
    "whz=wcz=2*np.pi*200e3\n",
    "(whz*10e-6)**2/2"
   ]
  },
  {
   "cell_type": "code",
   "execution_count": 340,
   "id": "40e20ef5",
   "metadata": {},
   "outputs": [
    {
     "data": {
      "text/plain": [
       "4.559016291117907e-09"
      ]
     },
     "execution_count": 340,
     "metadata": {},
     "output_type": "execute_result"
    }
   ],
   "source": [
    "mh*10**-2/e"
   ]
  },
  {
   "cell_type": "code",
   "execution_count": null,
   "id": "660d293b",
   "metadata": {},
   "outputs": [],
   "source": [
    "E="
   ]
  }
 ],
 "metadata": {
  "kernelspec": {
   "display_name": "Python 3 (ipykernel)",
   "language": "python",
   "name": "python3"
  },
  "language_info": {
   "codemirror_mode": {
    "name": "ipython",
    "version": 3
   },
   "file_extension": ".py",
   "mimetype": "text/x-python",
   "name": "python",
   "nbconvert_exporter": "python",
   "pygments_lexer": "ipython3",
   "version": "3.10.14"
  }
 },
 "nbformat": 4,
 "nbformat_minor": 5
}
